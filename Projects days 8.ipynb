{
 "cells": [
  {
   "cell_type": "code",
   "execution_count": 39,
   "metadata": {},
   "outputs": [],
   "source": [
    "def painting_caculator():\n",
    "    \n",
    "    heigh = int(input(\"Please provide the height of your object ?\\n\"))\n",
    "    width = int(input(\"Please provide the widht of your object ?\\n\"))\n",
    "    \n",
    "    \n",
    "    print(\"This the amount of cans that you need for your painting job\\n\")\n",
    "    result =  (heigh * width) / 5\n",
    "    result1 = round(result)\n",
    "    \n",
    "    print(f\"This is the amouhnt of cans needed {result1}\\n\")\n",
    "\n",
    "    "
   ]
  },
  {
   "cell_type": "code",
   "execution_count": 40,
   "metadata": {},
   "outputs": [
    {
     "name": "stdout",
     "output_type": "stream",
     "text": [
      "Please provide the height of your object ?\n",
      "2\n",
      "Please provide the widht of your object ?\n",
      "5\n",
      "This the amount of cans that you need for your painting job\n",
      "\n",
      "This is the amouhnt of cans needed 2\n",
      "\n"
     ]
    }
   ],
   "source": [
    "painting_caculator()"
   ]
  },
  {
   "cell_type": "code",
   "execution_count": 66,
   "metadata": {},
   "outputs": [],
   "source": [
    "def prime_checker():\n",
    "    \n",
    "    n = int(input(\"Provide you prime number:\\n\"))\n",
    "    \n",
    "    is_prime = True\n",
    "    for i in range(2 ,n -1):\n",
    "        \n",
    "        if n % i == 0:\n",
    "            \n",
    "            is_prime = False\n",
    "            #print(\"Not prime number\")\n",
    "    if is_prime:\n",
    "        # Not needed to write true already defined \n",
    "        \n",
    "        print(\"In fact is a prime number\")\n",
    "        \n",
    "    else:\n",
    "        \n",
    "        print(\"Note prime at all\")"
   ]
  },
  {
   "cell_type": "code",
   "execution_count": 67,
   "metadata": {},
   "outputs": [
    {
     "name": "stdout",
     "output_type": "stream",
     "text": [
      "Provide you prime number:\n",
      "73\n",
      "In fact is a prime number\n"
     ]
    }
   ],
   "source": [
    "prime_checker()"
   ]
  },
  {
   "cell_type": "code",
   "execution_count": null,
   "metadata": {},
   "outputs": [],
   "source": []
  }
 ],
 "metadata": {
  "kernelspec": {
   "display_name": "Python 3",
   "language": "python",
   "name": "python3"
  },
  "language_info": {
   "codemirror_mode": {
    "name": "ipython",
    "version": 3
   },
   "file_extension": ".py",
   "mimetype": "text/x-python",
   "name": "python",
   "nbconvert_exporter": "python",
   "pygments_lexer": "ipython3",
   "version": "3.8.5"
  }
 },
 "nbformat": 4,
 "nbformat_minor": 4
}
