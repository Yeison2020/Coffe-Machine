{
 "cells": [
  {
   "cell_type": "code",
   "execution_count": null,
   "metadata": {},
   "outputs": [],
   "source": [
    "\n",
    "    alphabet = ['a', 'b', 'c', 'd', 'e', 'f', 'g', 'h', 'i', 'j', 'k', 'l', 'm', 'n', 'o', 'p', 'q', 'r', \n",
    "            's', 't', 'u', 'v', 'w', 'x', 'y', 'z','a', 'b', 'c', 'd', 'e', 'f', 'g', 'h', 'i', 'j', 'k', 'l', 'm', 'n', 'o', 'p', 'q', 'r', \n",
    "            's', 't', 'u', 'v', 'w', 'x', 'y', 'z']\n",
    "\n",
    "    direction = input(\"Type 'encode' to encrypt, type 'decode' to decrypt:\\n\")\n",
    "    text = input(\"Type your message:\\n\").lower()\n",
    "    shift = int(input(\"Type the shift number:\\n\"))\n",
    "    \n",
    "    end_text = \"\"\n",
    "\n",
    "    \n",
    "def ceasar():\n",
    "\n",
    "        \n",
    "        if direction == \"decode\":\n",
    "\n",
    "                shift *= -1\n",
    "    for char in text:\n",
    "        \n",
    "        if char in alphabet:\n",
    "            \n",
    "            position = alphabet.index(char)\n",
    "            new_position = position + shift\n",
    "            add_words =  alphabet[new_position]\n",
    "            \n",
    "            end_text += add_words\n",
    "        else:\n",
    "            \n",
    "            end_text += char\n",
    "            \n",
    "            \n",
    "            \n",
    "            \n",
    "    print(f\"Here is the {direction}d and result {end_text}\")\n",
    "    \n",
    "    \n",
    "    \n",
    "    should_end = False\n",
    "    while not should_end:\n",
    "        \n",
    "        \n",
    "        direction = input(\"Type 'encode' to encrypt, type 'decode' to decrypt:\\n\")\n",
    "        text = input(\"Type your message:\\n\").lower()\n",
    "        shift = int(input(\"Type the shift number:\\n\"))\n",
    "        shift = shift % 25 \n",
    "        restart = input(\"Type 'yes' if you want to go again. Otherwise type 'no'.\\n\").lower()\n",
    "        \n",
    "        if restart == \"no\":\n",
    "            \n",
    "            should_end = True\n",
    "            print(\"Good bye. I hope to see your soon in here\")\n",
    "            \n",
    "\n",
    "        "
   ]
  }
 ],
 "metadata": {
  "kernelspec": {
   "display_name": "Python 3",
   "language": "python",
   "name": "python3"
  },
  "language_info": {
   "codemirror_mode": {
    "name": "ipython",
    "version": 3
   },
   "file_extension": ".py",
   "mimetype": "text/x-python",
   "name": "python",
   "nbconvert_exporter": "python",
   "pygments_lexer": "ipython3",
   "version": "3.8.5"
  }
 },
 "nbformat": 4,
 "nbformat_minor": 4
}
