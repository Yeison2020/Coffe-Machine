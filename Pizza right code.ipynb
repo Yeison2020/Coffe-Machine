{
 "cells": [
  {
   "cell_type": "code",
   "execution_count": 12,
   "metadata": {},
   "outputs": [
    {
     "name": "stdout",
     "output_type": "stream",
     "text": [
      "Welcome to the pizza store\n",
      "\n",
      "What size would your like your pizza S, M or L ?\n",
      " M\n",
      "Add pepperoni Y ? \n",
      " Y\n",
      "Add cheese Y ?\n",
      " Y\n",
      "Final bill is $ 24\n"
     ]
    }
   ],
   "source": [
    "print(\"Welcome to the pizza store\\n\")\n",
    "\n",
    "size = input(\"What size would your like your pizza S, M or L ?\\n \")\n",
    "\n",
    "pepperoni = input(\"Add pepperoni Y ? \\n \")\n",
    "\n",
    "cheese = input(\"Add cheese Y ?\\n \")\n",
    "\n",
    "\n",
    "bill = 0\n",
    "\n",
    "\n",
    "if size == \"S\":\n",
    "    \n",
    "    bill += 15\n",
    "elif size == \"M\":\n",
    "    \n",
    "    bill += 20\n",
    "    \n",
    "elif size == \"L\":\n",
    "    \n",
    "    bill = 25\n",
    "    \n",
    "    \n",
    "if  pepperoni == \"Y\":\n",
    "    \n",
    "    if size == \"S\":\n",
    "        \n",
    "        bill += 2\n",
    "    else:\n",
    "        \n",
    "        bill += 3\n",
    "if cheese == \"Y\":\n",
    "    \n",
    "    bill += 1\n",
    "        \n",
    "        \n",
    "print(f\"Final bill is $ {bill}\".format())   \n",
    "    \n",
    "    \n",
    "    \n",
    "\n",
    "            \n",
    "        \n",
    "        \n",
    "        \n",
    "        "
   ]
  },
  {
   "cell_type": "code",
   "execution_count": null,
   "metadata": {},
   "outputs": [],
   "source": []
  },
  {
   "cell_type": "code",
   "execution_count": null,
   "metadata": {},
   "outputs": [],
   "source": []
  }
 ],
 "metadata": {
  "kernelspec": {
   "display_name": "Python 3",
   "language": "python",
   "name": "python3"
  },
  "language_info": {
   "codemirror_mode": {
    "name": "ipython",
    "version": 3
   },
   "file_extension": ".py",
   "mimetype": "text/x-python",
   "name": "python",
   "nbconvert_exporter": "python",
   "pygments_lexer": "ipython3",
   "version": "3.8.3"
  }
 },
 "nbformat": 4,
 "nbformat_minor": 4
}
