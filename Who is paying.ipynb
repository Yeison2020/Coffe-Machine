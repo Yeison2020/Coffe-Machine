{
 "cells": [
  {
   "cell_type": "code",
   "execution_count": 2,
   "metadata": {},
   "outputs": [],
   "source": [
    "import random"
   ]
  },
  {
   "cell_type": "code",
   "execution_count": 3,
   "metadata": {},
   "outputs": [
    {
     "name": "stdout",
     "output_type": "stream",
     "text": [
      "Enter a seed numer:\n",
      "  55\n",
      "Please privide a list of name separated by coma: yeuri, deivi,yeison, matirza, papi\n",
      "yeuri is going to buy the meal today\n"
     ]
    }
   ],
   "source": [
    "random_Seed = int(input(\"Enter a seed numer:\\n  \"))\n",
    "\n",
    "\n",
    "random.seed(random_Seed)\n",
    "\n",
    "name_name = input(\"Please privide a list of name separated by coma: \")\n",
    "\n",
    "list_name = name_name.split(\", \")\n",
    "\n",
    "\n",
    "num_names = len(list_name)\n",
    "\n",
    "\n",
    "random_names = random.randint(0, num_names - 1)\n",
    "\n",
    "person_who_will_pay = list_name[random_names]\n",
    "\n",
    "print(person_who_will_pay + \" is going to buy the meal today\")\n"
   ]
  },
  {
   "cell_type": "code",
   "execution_count": 13,
   "metadata": {},
   "outputs": [
    {
     "data": {
      "text/plain": [
       "2"
      ]
     },
     "execution_count": 13,
     "metadata": {},
     "output_type": "execute_result"
    }
   ],
   "source": [
    "len(list_name)"
   ]
  },
  {
   "cell_type": "code",
   "execution_count": 28,
   "metadata": {},
   "outputs": [
    {
     "name": "stdout",
     "output_type": "stream",
     "text": [
      "Enter a seed numer:\n",
      "  9879654\n",
      "Please privide a list of name separated by coma: yeison, papi, deivi , mami , yeuri\n",
      "deivi \n"
     ]
    }
   ],
   "source": [
    "\n",
    "# Another version how to create a random nmaes choice\n",
    "\n",
    "random_Seed = int(input(\"Enter a seed numer:\\n  \"))\n",
    "\n",
    "\n",
    "random.seed(random_Seed)\n",
    "\n",
    "name_name = input(\"Please privide a list of name separated by coma: \")\n",
    "\n",
    "list_name = name_name.split(\", \")\n",
    "\n",
    "paying_tonight = random.choice(list_name)\n",
    "\n",
    "print(paying_tonight)"
   ]
  },
  {
   "cell_type": "code",
   "execution_count": null,
   "metadata": {},
   "outputs": [],
   "source": []
  }
 ],
 "metadata": {
  "kernelspec": {
   "display_name": "Python 3",
   "language": "python",
   "name": "python3"
  },
  "language_info": {
   "codemirror_mode": {
    "name": "ipython",
    "version": 3
   },
   "file_extension": ".py",
   "mimetype": "text/x-python",
   "name": "python",
   "nbconvert_exporter": "python",
   "pygments_lexer": "ipython3",
   "version": "3.8.3"
  }
 },
 "nbformat": 4,
 "nbformat_minor": 4
}
