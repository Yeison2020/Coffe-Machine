{
 "cells": [
  {
   "cell_type": "code",
   "execution_count": 11,
   "metadata": {},
   "outputs": [
    {
     "name": "stdout",
     "output_type": "stream",
     "text": [
      "\n",
      "                         ___________\n",
      "                         \\         /\n",
      "                          )_______(\n",
      "                          |\"\"\"\"\"\"\"|_.-._,.---------.,_.-._\n",
      "                          |       | | |               | | ''-.\n",
      "                          |       |_| |_             _| |_..-'\n",
      "                          |_______| '-' `'---------'` '-'\n",
      "                          )\"\"\"\"\"\"\"(\n",
      "                         /_________\\\n",
      "                       .-------------.\n",
      "                      /_______________\\\n",
      "\n",
      "What is your name: \n",
      "y\n",
      "What is your bid: $ 100\n",
      "Is there any other bidders in the salon ?\n",
      "h\n",
      "What is your name: \n",
      "250\n",
      "What is your bid: $ 84\n",
      "Is there any other bidders in the salon ?\n",
      "no\n",
      "The winner is  the won with a bid of $0\n"
     ]
    }
   ],
   "source": [
    "logo = '''\n",
    "                         ___________\n",
    "                         \\         /\n",
    "                          )_______(\n",
    "                          |\"\"\"\"\"\"\"|_.-._,.---------.,_.-._\n",
    "                          |       | | |               | | ''-.\n",
    "                          |       |_| |_             _| |_..-'\n",
    "                          |_______| '-' `'---------'` '-'\n",
    "                          )\"\"\"\"\"\"\"(\n",
    "                         /_________\\\\\n",
    "                       .-------------.\n",
    "                      /_______________\\\\\n",
    "'''\n",
    "print(logo)\n",
    "\n",
    "from IPython.display import clear_output\n",
    "\n",
    "values_added = {}\n",
    "\n",
    "values_added[name]= bid\n",
    "\n",
    "asked_keep = False\n",
    "\n",
    "def find_heigher(binding_record):\n",
    "    heighest_bid = 0\n",
    "    winner = \"\"\n",
    "    for key in binding_record:\n",
    "        saved_record = binding_record[name]\n",
    "        if bid_amount > saved_record:\n",
    "            heighest_bid = bid_amount\n",
    "            winner = key\n",
    "    print(f\"The winner is {winner} the won with a bid of ${heighest_bid}\")\n",
    "\n",
    "while not asked_keep :\n",
    "    name = input(\"What is your name: \\n\")\n",
    "    bid_amount = int(input(\"What is your bid: $ \"))\n",
    "    bidders = input(\"Is there any other bidders in the salon ?\\n\").lower()\n",
    "    values_added[name]= bid_amount\n",
    "    \n",
    "    \n",
    "    if bidders == \"no\":\n",
    "        \n",
    "        asked_keep = True\n",
    "        find_heigher(values_added)\n",
    "        \n",
    "        \n",
    "    elif bidders == \"yes\":\n",
    "        clear_output()\n",
    "    \n",
    "        \n",
    "        \n",
    "\n"
   ]
  },
  {
   "cell_type": "code",
   "execution_count": null,
   "metadata": {},
   "outputs": [],
   "source": []
  }
 ],
 "metadata": {
  "kernelspec": {
   "display_name": "Python 3",
   "language": "python",
   "name": "python3"
  },
  "language_info": {
   "codemirror_mode": {
    "name": "ipython",
    "version": 3
   },
   "file_extension": ".py",
   "mimetype": "text/x-python",
   "name": "python",
   "nbconvert_exporter": "python",
   "pygments_lexer": "ipython3",
   "version": "3.8.5"
  }
 },
 "nbformat": 4,
 "nbformat_minor": 4
}
