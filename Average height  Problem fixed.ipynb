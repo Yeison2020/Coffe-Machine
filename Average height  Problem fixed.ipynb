{
 "cells": [
  {
   "cell_type": "code",
   "execution_count": 3,
   "metadata": {},
   "outputs": [
    {
     "name": "stdout",
     "output_type": "stream",
     "text": [
      "Input a list of student heights 186 174 189 186 175\n",
      "total height = 910\n",
      "number of students = 5\n",
      "182\n"
     ]
    }
   ],
   "source": [
    "# 🚨 Don't change the code below 👇\n",
    "student_heights = input(\"Input a list of student heights \").split()\n",
    "for n in range(0, len(student_heights)):\n",
    "      student_heights[n] = int(student_heights[n])\n",
    "# print(student_heights)\n",
    "\n",
    "\n",
    "\n",
    "\n",
    "total_height = 0\n",
    "\n",
    "\n",
    "for height in student_heights:\n",
    "    \n",
    "      total_height += height\n",
    "print(f\"total height = {total_height}\")\n",
    "\n",
    "number_of_students = 0\n",
    "for student in student_heights:\n",
    "      number_of_students += 1\n",
    "print(f\"number of students = {number_of_students}\")\n",
    "  \n",
    "average_height = round(total_height / number_of_students)\n",
    "print(average_height)\n",
    "\n",
    "\n"
   ]
  },
  {
   "cell_type": "code",
   "execution_count": 11,
   "metadata": {},
   "outputs": [
    {
     "name": "stdout",
     "output_type": "stream",
     "text": [
      "Please privide your list: \n",
      "186 174 189 186 175\n",
      "Please provide the height of the students:\n",
      "186 174 189 186 175\n",
      "182.0\n"
     ]
    }
   ],
   "source": [
    "height = input(\"Please privide your list: \\n\").split()\n",
    "\n",
    "\n",
    "for n in range(0,len(height)):\n",
    "    \n",
    "    height[n] = int(height[n])\n",
    "    \n",
    "    \n",
    "    \n",
    "heigt_1 = input(\"Please provide the height of the students:\\n\").split()  \n",
    "\n",
    "\n",
    "for x in range(0,len(heigt_1)):\n",
    "    \n",
    "    heigt_1[x] = int(heigt_1[x])\n",
    "\n",
    "    \n",
    "empty_height = 0    \n",
    "for n in heigt_1:\n",
    "    \n",
    "    empty_height += n\n",
    "    \n",
    "list_1 = 0    \n",
    "for y in heigt_1:\n",
    "    \n",
    "    list_1 += 1\n",
    "    \n",
    "total_amount = empty_height / list_1  \n",
    "\n",
    "\n",
    "print(total_amount)\n",
    "    \n",
    "    \n",
    "    \n",
    "    \n",
    "    "
   ]
  },
  {
   "cell_type": "code",
   "execution_count": null,
   "metadata": {},
   "outputs": [],
   "source": []
  }
 ],
 "metadata": {
  "kernelspec": {
   "display_name": "Python 3",
   "language": "python",
   "name": "python3"
  },
  "language_info": {
   "codemirror_mode": {
    "name": "ipython",
    "version": 3
   },
   "file_extension": ".py",
   "mimetype": "text/x-python",
   "name": "python",
   "nbconvert_exporter": "python",
   "pygments_lexer": "ipython3",
   "version": "3.8.3"
  }
 },
 "nbformat": 4,
 "nbformat_minor": 4
}
