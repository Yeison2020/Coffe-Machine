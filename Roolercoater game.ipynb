{
 "cells": [
  {
   "cell_type": "code",
   "execution_count": 4,
   "metadata": {},
   "outputs": [
    {
     "ename": "IndentationError",
     "evalue": "unindent does not match any outer indentation level (<tokenize>, line 44)",
     "output_type": "error",
     "traceback": [
      "\u001b[1;36m  File \u001b[1;32m\"<tokenize>\"\u001b[1;36m, line \u001b[1;32m44\u001b[0m\n\u001b[1;33m    print(f\"Pay $ {bill} dollars\".format())\u001b[0m\n\u001b[1;37m    ^\u001b[0m\n\u001b[1;31mIndentationError\u001b[0m\u001b[1;31m:\u001b[0m unindent does not match any outer indentation level\n"
     ]
    }
   ],
   "source": [
    "def roller_coaster():\n",
    "    \n",
    "    \n",
    "    \n",
    "    print(\"Hello wolcome to the rollercoater\")\n",
    "    \n",
    "    \n",
    "    height = int(input(\"Please privide your heigh here in cm: \"))\n",
    "    \n",
    "    age = int(input(\"Please provide your age here : \"))\n",
    "    \n",
    "    foto = input(\"Would you like to take photo y or n: \")\n",
    "    \n",
    "    \n",
    "    \n",
    "    if height <= 121:\n",
    "        \n",
    "        \n",
    "        if age < 12:\n",
    "            \n",
    "            \n",
    "            \n",
    "            \n",
    "            bill = 5\n",
    "            \n",
    "            print(f\"Pay $ {bill} dollars\".format())\n",
    "            \n",
    "            \n",
    "            foto = input(\"Would you like to take photo y or n: \")\n",
    "           \n",
    "            if  foto == \"y\":\n",
    "                \n",
    "                bill +=3\n",
    "            \n",
    "            else:\n",
    "                 \n",
    "                foto == \"n\"\n",
    "                \n",
    "                print(\"Have a safe ride\")\n",
    "        if age <=  18:\n",
    "            \n",
    "               bill = 7\n",
    "            \n",
    "            print(f\"Pay $ {bill} dollars\".format())\n",
    "            \n",
    "            \n",
    "            foto = input(\"Would you like to take photo y or n: \")\n",
    "           \n",
    "            if  foto == \"y\":\n",
    "                \n",
    "                bill +=3\n",
    "            \n",
    "            \n",
    "            else:\n",
    "                 \n",
    "                foto == \"n\"\n",
    "                \n",
    "                print(\"Have a safe ride\")\n",
    "            \n",
    "            \n",
    "        if age > 18:\n",
    "            \n",
    "            \n",
    "            \n",
    "            \n",
    "            bill = 12\n",
    "            \n",
    "            print(f\"Pay $ {bill} dollars\".format())\n",
    "            \n",
    "            \n",
    "            foto = input(\"Would you like to take photo y or n: \")\n",
    "           \n",
    "            if  foto == \"y\":\n",
    "                \n",
    "                bill +=3\n",
    "            \n",
    "            \n",
    "            else:\n",
    "                 \n",
    "                foto == \"n\"\n",
    "                \n",
    "                print(\"Have a safe ride\")\n",
    "            \n",
    "    else:        \n",
    "            \n",
    "            \n",
    "        print(\"Sorry you have to grow taller to ride\")\n",
    "        \n",
    "       \n",
    "        \n",
    "        \n",
    "     \n",
    "    "
   ]
  },
  {
   "cell_type": "code",
   "execution_count": 36,
   "metadata": {},
   "outputs": [
    {
     "name": "stdout",
     "output_type": "stream",
     "text": [
      "Hello wolcome to the rollercoater\n",
      "Please privide your heigh here in cm: 121\n",
      "Please provide your age here : 21\n",
      "Would you like to take photo y or n: y\n",
      "Pay $ 12 dollars\n",
      "Extra $ 3 dollars photo charged \n"
     ]
    }
   ],
   "source": [
    "roller_coaster()"
   ]
  },
  {
   "cell_type": "code",
   "execution_count": null,
   "metadata": {},
   "outputs": [],
   "source": []
  }
 ],
 "metadata": {
  "kernelspec": {
   "display_name": "Python 3",
   "language": "python",
   "name": "python3"
  },
  "language_info": {
   "codemirror_mode": {
    "name": "ipython",
    "version": 3
   },
   "file_extension": ".py",
   "mimetype": "text/x-python",
   "name": "python",
   "nbconvert_exporter": "python",
   "pygments_lexer": "ipython3",
   "version": "3.8.3"
  }
 },
 "nbformat": 4,
 "nbformat_minor": 4
}
