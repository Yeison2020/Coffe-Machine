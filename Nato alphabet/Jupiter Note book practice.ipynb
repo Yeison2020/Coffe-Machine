{
 "cells": [
  {
   "cell_type": "code",
   "execution_count": 17,
   "metadata": {},
   "outputs": [],
   "source": [
    "import pandas"
   ]
  },
  {
   "cell_type": "code",
   "execution_count": 18,
   "metadata": {},
   "outputs": [
    {
     "name": "stdout",
     "output_type": "stream",
     "text": [
      "   letter      code\n",
      "0       A      Alfa\n",
      "1       B     Bravo\n",
      "2       C   Charlie\n",
      "3       D     Delta\n",
      "4       E      Echo\n",
      "5       F   Foxtrot\n",
      "6       G      Golf\n",
      "7       H     Hotel\n",
      "8       I     India\n",
      "9       J    Juliet\n",
      "10      K      Kilo\n",
      "11      L      Lima\n",
      "12      M      Mike\n",
      "13      N  November\n",
      "14      O     Oscar\n",
      "15      P      Papa\n",
      "16      Q    Quebec\n",
      "17      R     Romeo\n",
      "18      S    Sierra\n",
      "19      T     Tango\n",
      "20      U   Uniform\n",
      "21      V    Victor\n",
      "22      W   Whiskey\n",
      "23      X     X-ray\n",
      "24      Y    Yankee\n",
      "25      Z      Zulu\n"
     ]
    }
   ],
   "source": [
    "# STEP 1 GET THE FORMATTED NAMED AS DATA\n",
    "\n",
    "data = pandas.read_csv(\"nato_phonetic_alphabet.csv\")\n",
    "print(data)"
   ]
  },
  {
   "cell_type": "code",
   "execution_count": 19,
   "metadata": {},
   "outputs": [],
   "source": [
    "#STEP 2 Convert it in a dict\n",
    "\n",
    "\n",
    "Phonetic_dict = {row.letter:row.code for (index,row) in data.iterrows()}\n",
    "    \n",
    "    "
   ]
  },
  {
   "cell_type": "code",
   "execution_count": 22,
   "metadata": {},
   "outputs": [
    {
     "name": "stdout",
     "output_type": "stream",
     "text": [
      "{'A': 'Alfa', 'B': 'Bravo', 'C': 'Charlie', 'D': 'Delta', 'E': 'Echo', 'F': 'Foxtrot', 'G': 'Golf', 'H': 'Hotel', 'I': 'India', 'J': 'Juliet', 'K': 'Kilo', 'L': 'Lima', 'M': 'Mike', 'N': 'November', 'O': 'Oscar', 'P': 'Papa', 'Q': 'Quebec', 'R': 'Romeo', 'S': 'Sierra', 'T': 'Tango', 'U': 'Uniform', 'V': 'Victor', 'W': 'Whiskey', 'X': 'X-ray', 'Y': 'Yankee', 'Z': 'Zulu'}\n"
     ]
    }
   ],
   "source": [
    "print(Phonetic_dict)\n",
    "\n",
    "\n"
   ]
  },
  {
   "cell_type": "code",
   "execution_count": 23,
   "metadata": {},
   "outputs": [
    {
     "name": "stdout",
     "output_type": "stream",
     "text": [
      "Enter a word\n",
      "yeison\n",
      "['Yankee', 'Echo', 'India', 'Sierra', 'Oscar', 'November']\n"
     ]
    }
   ],
   "source": [
    "word = input(\"Enter a word\\n\").upper()\n",
    "\n",
    "\n",
    "output_list = [Phonetic_dict[letter] for letter in word]\n",
    "\n",
    "print(output_list)"
   ]
  },
  {
   "cell_type": "code",
   "execution_count": null,
   "metadata": {},
   "outputs": [],
   "source": []
  }
 ],
 "metadata": {
  "kernelspec": {
   "display_name": "Python 3",
   "language": "python",
   "name": "python3"
  },
  "language_info": {
   "codemirror_mode": {
    "name": "ipython",
    "version": 3
   },
   "file_extension": ".py",
   "mimetype": "text/x-python",
   "name": "python",
   "nbconvert_exporter": "python",
   "pygments_lexer": "ipython3",
   "version": "3.8.5"
  }
 },
 "nbformat": 4,
 "nbformat_minor": 4
}
